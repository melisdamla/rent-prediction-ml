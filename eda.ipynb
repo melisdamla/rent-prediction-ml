{
 "cells": [
  {
   "cell_type": "markdown",
   "id": "feb5d91e",
   "metadata": {},
   "source": [
    "# Analyse exploratoire des loyers en France\n",
    "\n",
    "Ce notebook présente une **analyse exploratoire des données (EDA)** sur les loyers français.\n",
    "Nous allons examiner la structure des données, la distribution du loyer au m², les valeurs aberrantes, et les corrélations clés avant de passer à la modélisation.\n",
    "\n",
    "Sources de données : OpenDataSoft & Data.gouv.fr (fichiers 2014–2024).\n"
   ]
  },
  {
   "cell_type": "markdown",
   "id": "9f640e5a",
   "metadata": {},
   "source": [
    "## 1. Chargement des données et bibliothèques"
   ]
  },
  {
   "cell_type": "code",
   "execution_count": null,
   "id": "c96eaaed",
   "metadata": {},
   "outputs": [],
   "source": [
    "import pandas as pd\n",
    "import matplotlib.pyplot as plt\n",
    "import seaborn as sns\n",
    "\n",
    "%matplotlib inline\n",
    "\n",
    "# Chargement des données\n",
    "df = pd.read_csv(\"../data/loyers_clean.csv\", encoding=\"ISO-8859-1\")\n",
    "df.columns = df.columns.str.strip()\n",
    "df.head()"
   ]
  },
  {
   "cell_type": "markdown",
   "id": "2384e85f",
   "metadata": {},
   "source": [
    "## 2. Aperçu général du dataset"
   ]
  },
  {
   "cell_type": "code",
   "execution_count": null,
   "id": "e444c0f7",
   "metadata": {},
   "outputs": [],
   "source": [
    "print(\"Dimensions du dataset:\", df.shape)\n",
    "print(\"\\nColonnes disponibles:\")\n",
    "print(df.columns.tolist())\n",
    "print(\"\\nTypes de données:\")\n",
    "df.info()"
   ]
  },
  {
   "cell_type": "markdown",
   "id": "9576efdd",
   "metadata": {},
   "source": [
    "## 3. Analyse des valeurs manquantes"
   ]
  },
  {
   "cell_type": "code",
   "execution_count": null,
   "id": "592e02f1",
   "metadata": {},
   "outputs": [],
   "source": [
    "missing = df.isnull().sum()\n",
    "missing = missing[missing > 0].sort_values(ascending=False)\n",
    "missing"
   ]
  },
  {
   "cell_type": "markdown",
   "id": "f461f189",
   "metadata": {},
   "source": [
    "## 4. Distribution du loyer au m²"
   ]
  },
  {
   "cell_type": "code",
   "execution_count": null,
   "id": "3f8c40c3",
   "metadata": {},
   "outputs": [],
   "source": [
    "plt.figure(figsize=(10,5))\n",
    "sns.histplot(df['loyer_m2'], bins=30, kde=True, color=\"steelblue\", edgecolor=\"black\")\n",
    "plt.title(\"Distribution du loyer au m²\")\n",
    "plt.xlabel(\"Loyer €/m²\")\n",
    "plt.ylabel(\"Fréquence\")\n",
    "plt.grid(True)\n",
    "plt.tight_layout()\n",
    "plt.show()"
   ]
  },
  {
   "cell_type": "markdown",
   "id": "4ce29e72",
   "metadata": {},
   "source": [
    "## 5. Analyse par catégories"
   ]
  },
  {
   "cell_type": "code",
   "execution_count": null,
   "id": "28b099ee",
   "metadata": {},
   "outputs": [],
   "source": [
    "plt.figure(figsize=(12,6))\n",
    "sns.boxplot(x=\"Type_habitat\", y=\"loyer_m2\", data=df)\n",
    "plt.title(\"Loyer au m² par type d'habitat\")\n",
    "plt.xticks(rotation=45)\n",
    "plt.grid(True)\n",
    "plt.tight_layout()\n",
    "plt.show()"
   ]
  },
  {
   "cell_type": "code",
   "execution_count": null,
   "id": "811c4c7d",
   "metadata": {},
   "outputs": [],
   "source": [
    "plt.figure(figsize=(12,6))\n",
    "sns.boxplot(x=\"nombre_pieces\", y=\"loyer_m2\", data=df)\n",
    "plt.title(\"Loyer au m² selon le nombre de pièces\")\n",
    "plt.xlabel(\"Nombre de pièces\")\n",
    "plt.ylabel(\"Loyer €/m²\")\n",
    "plt.grid(True)\n",
    "plt.tight_layout()\n",
    "plt.show()"
   ]
  },
  {
   "cell_type": "markdown",
   "id": "19327fa2",
   "metadata": {},
   "source": [
    "## 6. Corrélation entre variables numériques"
   ]
  },
  {
   "cell_type": "code",
   "execution_count": null,
   "id": "be86e708",
   "metadata": {},
   "outputs": [],
   "source": [
    "numeric_cols = [\"loyer\", \"surface\", \"nombre_pieces\", \"nombre_observations\", \"nombre_logements\", \"loyer_m2\"]\n",
    "plt.figure(figsize=(8,6))\n",
    "sns.heatmap(df[numeric_cols].corr(), annot=True, cmap=\"coolwarm\", fmt=\".2f\")\n",
    "plt.title(\"Matrice de corrélation\")\n",
    "plt.tight_layout()\n",
    "plt.show()"
   ]
  },
  {
   "cell_type": "markdown",
   "id": "8b63e28a",
   "metadata": {},
   "source": [
    "## 7. Conclusion exploratoire\n",
    "\n",
    "Cette analyse montre une forte variation des loyers par type d'habitat, nombre de pièces, et zone géographique. Ces observations guideront les choix de modélisation."
   ]
  }
 ],
 "metadata": {
  "language_info": {
   "name": "python"
  }
 },
 "nbformat": 4,
 "nbformat_minor": 5
}
